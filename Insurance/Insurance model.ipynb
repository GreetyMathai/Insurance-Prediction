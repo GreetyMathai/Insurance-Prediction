{
 "cells": [
  {
   "cell_type": "markdown",
   "id": "d7299f67-ccd1-4c08-bef2-dc1cd0ade87c",
   "metadata": {
    "tags": []
   },
   "source": [
    "## INSURANCE DATA\n",
    "#### PROBLEM STATEMENT: Identify and predict the right insurance charges for each customer\n"
   ]
  },
  {
   "cell_type": "markdown",
   "id": "661a6cc4-0bf5-4538-8625-1f531c8f1dff",
   "metadata": {},
   "source": [
    "### IMPORTING LIBRARIES\n"
   ]
  },
  {
   "cell_type": "code",
   "execution_count": 177,
   "id": "933e8930-b7f4-4cae-a05c-06a18ee29d5e",
   "metadata": {},
   "outputs": [],
   "source": [
    "import pandas as pd\n",
    "import numpy as np\n",
    "import matplotlib.pyplot as plt\n",
    "import seaborn as sns\n"
   ]
  },
  {
   "cell_type": "markdown",
   "id": "4b508b00-f664-4827-9660-02c4bb2409d6",
   "metadata": {},
   "source": [
    "### IMPORTING DATASET"
   ]
  },
  {
   "cell_type": "code",
   "execution_count": 178,
   "id": "f50bd081-5dc8-4726-9afd-22591b7ccbc8",
   "metadata": {},
   "outputs": [
    {
     "data": {
      "text/html": [
       "<div>\n",
       "<style scoped>\n",
       "    .dataframe tbody tr th:only-of-type {\n",
       "        vertical-align: middle;\n",
       "    }\n",
       "\n",
       "    .dataframe tbody tr th {\n",
       "        vertical-align: top;\n",
       "    }\n",
       "\n",
       "    .dataframe thead th {\n",
       "        text-align: right;\n",
       "    }\n",
       "</style>\n",
       "<table border=\"1\" class=\"dataframe\">\n",
       "  <thead>\n",
       "    <tr style=\"text-align: right;\">\n",
       "      <th></th>\n",
       "      <th>age</th>\n",
       "      <th>sex</th>\n",
       "      <th>bmi</th>\n",
       "      <th>children</th>\n",
       "      <th>smoker</th>\n",
       "      <th>region</th>\n",
       "      <th>charges</th>\n",
       "    </tr>\n",
       "  </thead>\n",
       "  <tbody>\n",
       "    <tr>\n",
       "      <th>0</th>\n",
       "      <td>19</td>\n",
       "      <td>female</td>\n",
       "      <td>27.900</td>\n",
       "      <td>0</td>\n",
       "      <td>yes</td>\n",
       "      <td>southwest</td>\n",
       "      <td>16884.92400</td>\n",
       "    </tr>\n",
       "    <tr>\n",
       "      <th>1</th>\n",
       "      <td>18</td>\n",
       "      <td>male</td>\n",
       "      <td>33.770</td>\n",
       "      <td>1</td>\n",
       "      <td>no</td>\n",
       "      <td>southeast</td>\n",
       "      <td>1725.55230</td>\n",
       "    </tr>\n",
       "    <tr>\n",
       "      <th>2</th>\n",
       "      <td>28</td>\n",
       "      <td>male</td>\n",
       "      <td>33.000</td>\n",
       "      <td>3</td>\n",
       "      <td>no</td>\n",
       "      <td>southeast</td>\n",
       "      <td>4449.46200</td>\n",
       "    </tr>\n",
       "    <tr>\n",
       "      <th>3</th>\n",
       "      <td>33</td>\n",
       "      <td>male</td>\n",
       "      <td>22.705</td>\n",
       "      <td>0</td>\n",
       "      <td>no</td>\n",
       "      <td>northwest</td>\n",
       "      <td>21984.47061</td>\n",
       "    </tr>\n",
       "    <tr>\n",
       "      <th>4</th>\n",
       "      <td>32</td>\n",
       "      <td>male</td>\n",
       "      <td>28.880</td>\n",
       "      <td>0</td>\n",
       "      <td>no</td>\n",
       "      <td>northwest</td>\n",
       "      <td>3866.85520</td>\n",
       "    </tr>\n",
       "  </tbody>\n",
       "</table>\n",
       "</div>"
      ],
      "text/plain": [
       "   age     sex     bmi  children smoker     region      charges\n",
       "0   19  female  27.900         0    yes  southwest  16884.92400\n",
       "1   18    male  33.770         1     no  southeast   1725.55230\n",
       "2   28    male  33.000         3     no  southeast   4449.46200\n",
       "3   33    male  22.705         0     no  northwest  21984.47061\n",
       "4   32    male  28.880         0     no  northwest   3866.85520"
      ]
     },
     "execution_count": 178,
     "metadata": {},
     "output_type": "execute_result"
    }
   ],
   "source": [
    "data = pd.read_csv('Insurance.csv')\n",
    "data.head()"
   ]
  },
  {
   "cell_type": "code",
   "execution_count": 179,
   "id": "93be7d92-746d-4fdb-a974-bddb2a10b531",
   "metadata": {},
   "outputs": [
    {
     "data": {
      "text/plain": [
       "9366"
      ]
     },
     "execution_count": 179,
     "metadata": {},
     "output_type": "execute_result"
    }
   ],
   "source": [
    "data.size"
   ]
  },
  {
   "cell_type": "code",
   "execution_count": 180,
   "id": "dff376eb-adb8-4efa-8644-6afc9e5736d4",
   "metadata": {},
   "outputs": [
    {
     "data": {
      "text/plain": [
       "(1338, 7)"
      ]
     },
     "execution_count": 180,
     "metadata": {},
     "output_type": "execute_result"
    }
   ],
   "source": [
    "data.shape"
   ]
  },
  {
   "cell_type": "code",
   "execution_count": 181,
   "id": "264f38ee-9a6e-4cdd-b082-d3ff185090b8",
   "metadata": {},
   "outputs": [
    {
     "name": "stdout",
     "output_type": "stream",
     "text": [
      "<class 'pandas.core.frame.DataFrame'>\n",
      "RangeIndex: 1338 entries, 0 to 1337\n",
      "Data columns (total 7 columns):\n",
      " #   Column    Non-Null Count  Dtype  \n",
      "---  ------    --------------  -----  \n",
      " 0   age       1338 non-null   int64  \n",
      " 1   sex       1338 non-null   object \n",
      " 2   bmi       1338 non-null   float64\n",
      " 3   children  1338 non-null   int64  \n",
      " 4   smoker    1338 non-null   object \n",
      " 5   region    1338 non-null   object \n",
      " 6   charges   1338 non-null   float64\n",
      "dtypes: float64(2), int64(2), object(3)\n",
      "memory usage: 73.3+ KB\n"
     ]
    }
   ],
   "source": [
    "# data has no missing values\n",
    "# there are 7 columns and 1338 rows\n",
    "\n",
    "data.info()"
   ]
  },
  {
   "cell_type": "markdown",
   "id": "d640f534-8356-482a-ad9c-27c107c638f7",
   "metadata": {},
   "source": [
    "### DATA INFORMATION:\n",
    "   1.  No of rows = 1338\n",
    "   2. No of columns = 7\n",
    "   3. No missing values are there\n",
    "   \n",
    "   4. Chategorical = sex, smoker, region\n",
    "   5. Numerical columns = age, bmi, children count, charges\n"
   ]
  },
  {
   "cell_type": "markdown",
   "id": "8c05b2ab-dadb-4acf-8d71-909813a96b60",
   "metadata": {},
   "source": [
    "##### Here there are no numerical missing values so we don't need to deal with them"
   ]
  },
  {
   "cell_type": "markdown",
   "id": "1f2abc0d-f128-4bf6-8328-5039f166d9c8",
   "metadata": {},
   "source": [
    "### DEALING WITH CHATEGORICAL DATA"
   ]
  },
  {
   "cell_type": "code",
   "execution_count": 182,
   "id": "1be06332-e287-4812-890c-490282076965",
   "metadata": {},
   "outputs": [
    {
     "data": {
      "text/plain": [
       "age           47\n",
       "sex            2\n",
       "bmi          548\n",
       "children       6\n",
       "smoker         2\n",
       "region         4\n",
       "charges     1337\n",
       "dtype: int64"
      ]
     },
     "execution_count": 182,
     "metadata": {},
     "output_type": "execute_result"
    }
   ],
   "source": [
    "## finding unique values in the data\n",
    "data.nunique()"
   ]
  },
  {
   "cell_type": "markdown",
   "id": "862678bf-7373-44a4-aa06-724369300754",
   "metadata": {
    "tags": []
   },
   "source": [
    "### CHATEGORICAL ROWS:\n",
    "    1. SEX = Nominal data\n",
    "    2. SMOKER = Nominal data\n",
    "    3. REGION = Nominal data\n",
    "    \n",
    "    ALL NOMINAL DATA HENCE WE WILL CREATE A SPARSE MATRIX USING GET DUMMIES FUNCTION"
   ]
  },
  {
   "cell_type": "code",
   "execution_count": 183,
   "id": "63104e2b-9f59-4a0b-91d2-90df33786070",
   "metadata": {},
   "outputs": [],
   "source": [
    "data = pd.get_dummies(data, drop_first=True)"
   ]
  },
  {
   "cell_type": "code",
   "execution_count": 184,
   "id": "e538b81a-c1fe-4718-ae27-c4216810f23d",
   "metadata": {},
   "outputs": [
    {
     "data": {
      "text/html": [
       "<div>\n",
       "<style scoped>\n",
       "    .dataframe tbody tr th:only-of-type {\n",
       "        vertical-align: middle;\n",
       "    }\n",
       "\n",
       "    .dataframe tbody tr th {\n",
       "        vertical-align: top;\n",
       "    }\n",
       "\n",
       "    .dataframe thead th {\n",
       "        text-align: right;\n",
       "    }\n",
       "</style>\n",
       "<table border=\"1\" class=\"dataframe\">\n",
       "  <thead>\n",
       "    <tr style=\"text-align: right;\">\n",
       "      <th></th>\n",
       "      <th>age</th>\n",
       "      <th>bmi</th>\n",
       "      <th>children</th>\n",
       "      <th>charges</th>\n",
       "      <th>sex_male</th>\n",
       "      <th>smoker_yes</th>\n",
       "      <th>region_northwest</th>\n",
       "      <th>region_southeast</th>\n",
       "      <th>region_southwest</th>\n",
       "    </tr>\n",
       "  </thead>\n",
       "  <tbody>\n",
       "    <tr>\n",
       "      <th>0</th>\n",
       "      <td>19</td>\n",
       "      <td>27.900</td>\n",
       "      <td>0</td>\n",
       "      <td>16884.92400</td>\n",
       "      <td>0</td>\n",
       "      <td>1</td>\n",
       "      <td>0</td>\n",
       "      <td>0</td>\n",
       "      <td>1</td>\n",
       "    </tr>\n",
       "    <tr>\n",
       "      <th>1</th>\n",
       "      <td>18</td>\n",
       "      <td>33.770</td>\n",
       "      <td>1</td>\n",
       "      <td>1725.55230</td>\n",
       "      <td>1</td>\n",
       "      <td>0</td>\n",
       "      <td>0</td>\n",
       "      <td>1</td>\n",
       "      <td>0</td>\n",
       "    </tr>\n",
       "    <tr>\n",
       "      <th>2</th>\n",
       "      <td>28</td>\n",
       "      <td>33.000</td>\n",
       "      <td>3</td>\n",
       "      <td>4449.46200</td>\n",
       "      <td>1</td>\n",
       "      <td>0</td>\n",
       "      <td>0</td>\n",
       "      <td>1</td>\n",
       "      <td>0</td>\n",
       "    </tr>\n",
       "    <tr>\n",
       "      <th>3</th>\n",
       "      <td>33</td>\n",
       "      <td>22.705</td>\n",
       "      <td>0</td>\n",
       "      <td>21984.47061</td>\n",
       "      <td>1</td>\n",
       "      <td>0</td>\n",
       "      <td>1</td>\n",
       "      <td>0</td>\n",
       "      <td>0</td>\n",
       "    </tr>\n",
       "    <tr>\n",
       "      <th>4</th>\n",
       "      <td>32</td>\n",
       "      <td>28.880</td>\n",
       "      <td>0</td>\n",
       "      <td>3866.85520</td>\n",
       "      <td>1</td>\n",
       "      <td>0</td>\n",
       "      <td>1</td>\n",
       "      <td>0</td>\n",
       "      <td>0</td>\n",
       "    </tr>\n",
       "  </tbody>\n",
       "</table>\n",
       "</div>"
      ],
      "text/plain": [
       "   age     bmi  children      charges  sex_male  smoker_yes  region_northwest  \\\n",
       "0   19  27.900         0  16884.92400         0           1                 0   \n",
       "1   18  33.770         1   1725.55230         1           0                 0   \n",
       "2   28  33.000         3   4449.46200         1           0                 0   \n",
       "3   33  22.705         0  21984.47061         1           0                 1   \n",
       "4   32  28.880         0   3866.85520         1           0                 1   \n",
       "\n",
       "   region_southeast  region_southwest  \n",
       "0                 0                 1  \n",
       "1                 1                 0  \n",
       "2                 1                 0  \n",
       "3                 0                 0  \n",
       "4                 0                 0  "
      ]
     },
     "execution_count": 184,
     "metadata": {},
     "output_type": "execute_result"
    }
   ],
   "source": [
    "data.head()"
   ]
  },
  {
   "cell_type": "markdown",
   "id": "91fc45d6-dae6-4832-acb4-98298975519f",
   "metadata": {},
   "source": [
    "### SKEWNESS OF DATA\n",
    "\n",
    "##### We see there is a slight differnce in the mean and median values of the numerical column. Hence we can say it has a little skewness in the data\n",
    "\n"
   ]
  },
  {
   "cell_type": "code",
   "execution_count": 185,
   "id": "2f302c0b-8343-49c4-afda-62f7529c7f12",
   "metadata": {},
   "outputs": [
    {
     "data": {
      "text/html": [
       "<div>\n",
       "<style scoped>\n",
       "    .dataframe tbody tr th:only-of-type {\n",
       "        vertical-align: middle;\n",
       "    }\n",
       "\n",
       "    .dataframe tbody tr th {\n",
       "        vertical-align: top;\n",
       "    }\n",
       "\n",
       "    .dataframe thead th {\n",
       "        text-align: right;\n",
       "    }\n",
       "</style>\n",
       "<table border=\"1\" class=\"dataframe\">\n",
       "  <thead>\n",
       "    <tr style=\"text-align: right;\">\n",
       "      <th></th>\n",
       "      <th>age</th>\n",
       "      <th>bmi</th>\n",
       "      <th>children</th>\n",
       "      <th>charges</th>\n",
       "      <th>sex_male</th>\n",
       "      <th>smoker_yes</th>\n",
       "      <th>region_northwest</th>\n",
       "      <th>region_southeast</th>\n",
       "      <th>region_southwest</th>\n",
       "    </tr>\n",
       "  </thead>\n",
       "  <tbody>\n",
       "    <tr>\n",
       "      <th>count</th>\n",
       "      <td>1338.000000</td>\n",
       "      <td>1338.000000</td>\n",
       "      <td>1338.000000</td>\n",
       "      <td>1338.000000</td>\n",
       "      <td>1338.000000</td>\n",
       "      <td>1338.000000</td>\n",
       "      <td>1338.000000</td>\n",
       "      <td>1338.000000</td>\n",
       "      <td>1338.000000</td>\n",
       "    </tr>\n",
       "    <tr>\n",
       "      <th>mean</th>\n",
       "      <td>39.207025</td>\n",
       "      <td>30.663397</td>\n",
       "      <td>1.094918</td>\n",
       "      <td>13270.422265</td>\n",
       "      <td>0.505232</td>\n",
       "      <td>0.204783</td>\n",
       "      <td>0.242900</td>\n",
       "      <td>0.272048</td>\n",
       "      <td>0.242900</td>\n",
       "    </tr>\n",
       "    <tr>\n",
       "      <th>std</th>\n",
       "      <td>14.049960</td>\n",
       "      <td>6.098187</td>\n",
       "      <td>1.205493</td>\n",
       "      <td>12110.011237</td>\n",
       "      <td>0.500160</td>\n",
       "      <td>0.403694</td>\n",
       "      <td>0.428995</td>\n",
       "      <td>0.445181</td>\n",
       "      <td>0.428995</td>\n",
       "    </tr>\n",
       "    <tr>\n",
       "      <th>min</th>\n",
       "      <td>18.000000</td>\n",
       "      <td>15.960000</td>\n",
       "      <td>0.000000</td>\n",
       "      <td>1121.873900</td>\n",
       "      <td>0.000000</td>\n",
       "      <td>0.000000</td>\n",
       "      <td>0.000000</td>\n",
       "      <td>0.000000</td>\n",
       "      <td>0.000000</td>\n",
       "    </tr>\n",
       "    <tr>\n",
       "      <th>25%</th>\n",
       "      <td>27.000000</td>\n",
       "      <td>26.296250</td>\n",
       "      <td>0.000000</td>\n",
       "      <td>4740.287150</td>\n",
       "      <td>0.000000</td>\n",
       "      <td>0.000000</td>\n",
       "      <td>0.000000</td>\n",
       "      <td>0.000000</td>\n",
       "      <td>0.000000</td>\n",
       "    </tr>\n",
       "    <tr>\n",
       "      <th>50%</th>\n",
       "      <td>39.000000</td>\n",
       "      <td>30.400000</td>\n",
       "      <td>1.000000</td>\n",
       "      <td>9382.033000</td>\n",
       "      <td>1.000000</td>\n",
       "      <td>0.000000</td>\n",
       "      <td>0.000000</td>\n",
       "      <td>0.000000</td>\n",
       "      <td>0.000000</td>\n",
       "    </tr>\n",
       "    <tr>\n",
       "      <th>75%</th>\n",
       "      <td>51.000000</td>\n",
       "      <td>34.693750</td>\n",
       "      <td>2.000000</td>\n",
       "      <td>16639.912515</td>\n",
       "      <td>1.000000</td>\n",
       "      <td>0.000000</td>\n",
       "      <td>0.000000</td>\n",
       "      <td>1.000000</td>\n",
       "      <td>0.000000</td>\n",
       "    </tr>\n",
       "    <tr>\n",
       "      <th>max</th>\n",
       "      <td>64.000000</td>\n",
       "      <td>53.130000</td>\n",
       "      <td>5.000000</td>\n",
       "      <td>63770.428010</td>\n",
       "      <td>1.000000</td>\n",
       "      <td>1.000000</td>\n",
       "      <td>1.000000</td>\n",
       "      <td>1.000000</td>\n",
       "      <td>1.000000</td>\n",
       "    </tr>\n",
       "  </tbody>\n",
       "</table>\n",
       "</div>"
      ],
      "text/plain": [
       "               age          bmi     children       charges     sex_male  \\\n",
       "count  1338.000000  1338.000000  1338.000000   1338.000000  1338.000000   \n",
       "mean     39.207025    30.663397     1.094918  13270.422265     0.505232   \n",
       "std      14.049960     6.098187     1.205493  12110.011237     0.500160   \n",
       "min      18.000000    15.960000     0.000000   1121.873900     0.000000   \n",
       "25%      27.000000    26.296250     0.000000   4740.287150     0.000000   \n",
       "50%      39.000000    30.400000     1.000000   9382.033000     1.000000   \n",
       "75%      51.000000    34.693750     2.000000  16639.912515     1.000000   \n",
       "max      64.000000    53.130000     5.000000  63770.428010     1.000000   \n",
       "\n",
       "        smoker_yes  region_northwest  region_southeast  region_southwest  \n",
       "count  1338.000000       1338.000000       1338.000000       1338.000000  \n",
       "mean      0.204783          0.242900          0.272048          0.242900  \n",
       "std       0.403694          0.428995          0.445181          0.428995  \n",
       "min       0.000000          0.000000          0.000000          0.000000  \n",
       "25%       0.000000          0.000000          0.000000          0.000000  \n",
       "50%       0.000000          0.000000          0.000000          0.000000  \n",
       "75%       0.000000          0.000000          1.000000          0.000000  \n",
       "max       1.000000          1.000000          1.000000          1.000000  "
      ]
     },
     "execution_count": 185,
     "metadata": {},
     "output_type": "execute_result"
    }
   ],
   "source": [
    "data.describe()"
   ]
  },
  {
   "cell_type": "markdown",
   "id": "318dea50-fd35-4779-bdf0-dbb60b468ade",
   "metadata": {},
   "source": [
    "### VISUAL REPRESENTATION OF THE COLUMNS TO CHECK FOR SKEWNESS AND OUTLIERS\n",
    "\n",
    "As there is not much skewness oF data we will not be dealing with it"
   ]
  },
  {
   "cell_type": "code",
   "execution_count": 186,
   "id": "e620fb40-a378-48b1-9e36-26654e107830",
   "metadata": {},
   "outputs": [
    {
     "data": {
      "text/plain": [
       "<AxesSubplot:>"
      ]
     },
     "execution_count": 186,
     "metadata": {},
     "output_type": "execute_result"
    },
    {
     "data": {
      "image/png": "[encoded data removed]",
      "text/plain": [
       "<Figure size 640x480 with 1 Axes>"
      ]
     },
     "metadata": {},
     "output_type": "display_data"
    }
   ],
   "source": [
    "sns.boxplot(data = data)"
   ]
  },
  {
   "cell_type": "code",
   "execution_count": 187,
   "id": "1e773e0d-e76c-466d-ac5d-963a460e8dd7",
   "metadata": {},
   "outputs": [
    {
     "data": {
      "text/plain": [
       "<AxesSubplot:xlabel='bmi'>"
      ]
     },
     "execution_count": 187,
     "metadata": {},
     "output_type": "execute_result"
    },
    {
     "data": {
      "image/png": "[encoded data removed]",
      "text/plain": [
       "<Figure size 640x480 with 1 Axes>"
      ]
     },
     "metadata": {},
     "output_type": "display_data"
    }
   ],
   "source": [
    "sns.boxplot(x = data['bmi'])"
   ]
  },
  {
   "cell_type": "code",
   "execution_count": 188,
   "id": "116c9cfd-9a53-4ee0-891e-fadb7e19fa5c",
   "metadata": {},
   "outputs": [
    {
     "data": {
      "text/plain": [
       "<AxesSubplot:xlabel='children'>"
      ]
     },
     "execution_count": 188,
     "metadata": {},
     "output_type": "execute_result"
    },
    {
     "data": {
      "image/png": "[encoded data removed]",
      "text/plain": [
       "<Figure size 640x480 with 1 Axes>"
      ]
     },
     "metadata": {},
     "output_type": "display_data"
    }
   ],
   "source": [
    "sns.boxplot(x = data['children'])"
   ]
  },
  {
   "cell_type": "code",
   "execution_count": 189,
   "id": "f437ca20-220c-49a1-b6a9-646f954d5c5a",
   "metadata": {},
   "outputs": [],
   "source": [
    "data1 = ['age','bmi','children','charges']\n",
    "data1 = data[data1]"
   ]
  },
  {
   "cell_type": "code",
   "execution_count": 190,
   "id": "c2b155c2-3d40-48a4-9a3c-809fea9d9806",
   "metadata": {},
   "outputs": [
    {
     "data": {
      "text/html": [
       "<div>\n",
       "<style scoped>\n",
       "    .dataframe tbody tr th:only-of-type {\n",
       "        vertical-align: middle;\n",
       "    }\n",
       "\n",
       "    .dataframe tbody tr th {\n",
       "        vertical-align: top;\n",
       "    }\n",
       "\n",
       "    .dataframe thead th {\n",
       "        text-align: right;\n",
       "    }\n",
       "</style>\n",
       "<table border=\"1\" class=\"dataframe\">\n",
       "  <thead>\n",
       "    <tr style=\"text-align: right;\">\n",
       "      <th></th>\n",
       "      <th>age</th>\n",
       "      <th>bmi</th>\n",
       "      <th>children</th>\n",
       "      <th>charges</th>\n",
       "      <th>sex_male</th>\n",
       "      <th>smoker_yes</th>\n",
       "      <th>region_northwest</th>\n",
       "      <th>region_southeast</th>\n",
       "      <th>region_southwest</th>\n",
       "    </tr>\n",
       "  </thead>\n",
       "  <tbody>\n",
       "    <tr>\n",
       "      <th>age</th>\n",
       "      <td>1.000000</td>\n",
       "      <td>0.109272</td>\n",
       "      <td>0.042469</td>\n",
       "      <td>0.299008</td>\n",
       "      <td>-0.020856</td>\n",
       "      <td>-0.025019</td>\n",
       "      <td>-0.000407</td>\n",
       "      <td>-0.011642</td>\n",
       "      <td>0.010016</td>\n",
       "    </tr>\n",
       "    <tr>\n",
       "      <th>bmi</th>\n",
       "      <td>0.109272</td>\n",
       "      <td>1.000000</td>\n",
       "      <td>0.012759</td>\n",
       "      <td>0.198341</td>\n",
       "      <td>0.046371</td>\n",
       "      <td>0.003750</td>\n",
       "      <td>-0.135996</td>\n",
       "      <td>0.270025</td>\n",
       "      <td>-0.006205</td>\n",
       "    </tr>\n",
       "    <tr>\n",
       "      <th>children</th>\n",
       "      <td>0.042469</td>\n",
       "      <td>0.012759</td>\n",
       "      <td>1.000000</td>\n",
       "      <td>0.067998</td>\n",
       "      <td>0.017163</td>\n",
       "      <td>0.007673</td>\n",
       "      <td>0.024806</td>\n",
       "      <td>-0.023066</td>\n",
       "      <td>0.021914</td>\n",
       "    </tr>\n",
       "    <tr>\n",
       "      <th>charges</th>\n",
       "      <td>0.299008</td>\n",
       "      <td>0.198341</td>\n",
       "      <td>0.067998</td>\n",
       "      <td>1.000000</td>\n",
       "      <td>0.057292</td>\n",
       "      <td>0.787251</td>\n",
       "      <td>-0.039905</td>\n",
       "      <td>0.073982</td>\n",
       "      <td>-0.043210</td>\n",
       "    </tr>\n",
       "    <tr>\n",
       "      <th>sex_male</th>\n",
       "      <td>-0.020856</td>\n",
       "      <td>0.046371</td>\n",
       "      <td>0.017163</td>\n",
       "      <td>0.057292</td>\n",
       "      <td>1.000000</td>\n",
       "      <td>0.076185</td>\n",
       "      <td>-0.011156</td>\n",
       "      <td>0.017117</td>\n",
       "      <td>-0.004184</td>\n",
       "    </tr>\n",
       "    <tr>\n",
       "      <th>smoker_yes</th>\n",
       "      <td>-0.025019</td>\n",
       "      <td>0.003750</td>\n",
       "      <td>0.007673</td>\n",
       "      <td>0.787251</td>\n",
       "      <td>0.076185</td>\n",
       "      <td>1.000000</td>\n",
       "      <td>-0.036945</td>\n",
       "      <td>0.068498</td>\n",
       "      <td>-0.036945</td>\n",
       "    </tr>\n",
       "    <tr>\n",
       "      <th>region_northwest</th>\n",
       "      <td>-0.000407</td>\n",
       "      <td>-0.135996</td>\n",
       "      <td>0.024806</td>\n",
       "      <td>-0.039905</td>\n",
       "      <td>-0.011156</td>\n",
       "      <td>-0.036945</td>\n",
       "      <td>1.000000</td>\n",
       "      <td>-0.346265</td>\n",
       "      <td>-0.320829</td>\n",
       "    </tr>\n",
       "    <tr>\n",
       "      <th>region_southeast</th>\n",
       "      <td>-0.011642</td>\n",
       "      <td>0.270025</td>\n",
       "      <td>-0.023066</td>\n",
       "      <td>0.073982</td>\n",
       "      <td>0.017117</td>\n",
       "      <td>0.068498</td>\n",
       "      <td>-0.346265</td>\n",
       "      <td>1.000000</td>\n",
       "      <td>-0.346265</td>\n",
       "    </tr>\n",
       "    <tr>\n",
       "      <th>region_southwest</th>\n",
       "      <td>0.010016</td>\n",
       "      <td>-0.006205</td>\n",
       "      <td>0.021914</td>\n",
       "      <td>-0.043210</td>\n",
       "      <td>-0.004184</td>\n",
       "      <td>-0.036945</td>\n",
       "      <td>-0.320829</td>\n",
       "      <td>-0.346265</td>\n",
       "      <td>1.000000</td>\n",
       "    </tr>\n",
       "  </tbody>\n",
       "</table>\n",
       "</div>"
      ],
      "text/plain": [
       "                       age       bmi  children   charges  sex_male  \\\n",
       "age               1.000000  0.109272  0.042469  0.299008 -0.020856   \n",
       "bmi               0.109272  1.000000  0.012759  0.198341  0.046371   \n",
       "children          0.042469  0.012759  1.000000  0.067998  0.017163   \n",
       "charges           0.299008  0.198341  0.067998  1.000000  0.057292   \n",
       "sex_male         -0.020856  0.046371  0.017163  0.057292  1.000000   \n",
       "smoker_yes       -0.025019  0.003750  0.007673  0.787251  0.076185   \n",
       "region_northwest -0.000407 -0.135996  0.024806 -0.039905 -0.011156   \n",
       "region_southeast -0.011642  0.270025 -0.023066  0.073982  0.017117   \n",
       "region_southwest  0.010016 -0.006205  0.021914 -0.043210 -0.004184   \n",
       "\n",
       "                  smoker_yes  region_northwest  region_southeast  \\\n",
       "age                -0.025019         -0.000407         -0.011642   \n",
       "bmi                 0.003750         -0.135996          0.270025   \n",
       "children            0.007673          0.024806         -0.023066   \n",
       "charges             0.787251         -0.039905          0.073982   \n",
       "sex_male            0.076185         -0.011156          0.017117   \n",
       "smoker_yes          1.000000         -0.036945          0.068498   \n",
       "region_northwest   -0.036945          1.000000         -0.346265   \n",
       "region_southeast    0.068498         -0.346265          1.000000   \n",
       "region_southwest   -0.036945         -0.320829         -0.346265   \n",
       "\n",
       "                  region_southwest  \n",
       "age                       0.010016  \n",
       "bmi                      -0.006205  \n",
       "children                  0.021914  \n",
       "charges                  -0.043210  \n",
       "sex_male                 -0.004184  \n",
       "smoker_yes               -0.036945  \n",
       "region_northwest         -0.320829  \n",
       "region_southeast         -0.346265  \n",
       "region_southwest          1.000000  "
      ]
     },
     "execution_count": 190,
     "metadata": {},
     "output_type": "execute_result"
    }
   ],
   "source": [
    "data.corr()"
   ]
  },
  {
   "cell_type": "markdown",
   "id": "d83687c9-c92b-470d-98e1-58f69cb98658",
   "metadata": {},
   "source": [
    "## LINEAR REGRESSION\n",
    "### SELECTION OF FEATURE AND TARGET FOR THE DATA\n",
    "\n"
   ]
  },
  {
   "cell_type": "code",
   "execution_count": 191,
   "id": "1aa409de-e386-4e1e-9323-cd90fd0d6cb1",
   "metadata": {},
   "outputs": [],
   "source": [
    "x = data['smoker_yes'].values.reshape(-1,1)\n",
    "y = data[\"charges\"]"
   ]
  },
  {
   "cell_type": "markdown",
   "id": "d6243bed-78c0-4e2e-b27d-b1980e820f90",
   "metadata": {},
   "source": [
    "### STANDARDIZATION"
   ]
  },
  {
   "cell_type": "code",
   "execution_count": 192,
   "id": "21005f49-1505-482e-bd83-9c08f16e5bd4",
   "metadata": {},
   "outputs": [
    {
     "name": "stdout",
     "output_type": "stream",
     "text": [
      "[[ 1.97058663]\n",
      " [-0.5074631 ]\n",
      " [-0.5074631 ]\n",
      " ...\n",
      " [-0.5074631 ]\n",
      " [-0.5074631 ]\n",
      " [ 1.97058663]]\n"
     ]
    }
   ],
   "source": [
    "from sklearn.preprocessing import StandardScaler\n",
    "scaler = StandardScaler()\n",
    "scaled = scaler.fit_transform(x)\n",
    "print(scaled)"
   ]
  },
  {
   "cell_type": "markdown",
   "id": "3876508f-adb6-45b8-bc83-8d9c28f25db5",
   "metadata": {},
   "source": [
    "### BIFIRCATE DATA INTO\n",
    "1. TRAIN ---- 80%\n",
    "2. TEST ----- 20%"
   ]
  },
  {
   "cell_type": "code",
   "execution_count": 193,
   "id": "b90f912b-2ff5-41a9-982d-edc96ebe789d",
   "metadata": {},
   "outputs": [],
   "source": [
    "from sklearn.model_selection import train_test_split\n",
    "x_train,x_test, y_train,y_test = train_test_split(scaled,y,test_size = 0.2, random_state =42)"
   ]
  },
  {
   "cell_type": "markdown",
   "id": "417914bf-0660-4b04-81db-2fb18adf67c4",
   "metadata": {},
   "source": [
    "### MODEL FITTING"
   ]
  },
  {
   "cell_type": "code",
   "execution_count": 194,
   "id": "511b752f-fb38-4093-80a1-0824704dd9e5",
   "metadata": {},
   "outputs": [],
   "source": [
    "from sklearn.linear_model import LinearRegression\n",
    "model = LinearRegression().fit(x_train,y_train)\n",
    "\n",
    "model_pred = model.predict(x_test)"
   ]
  },
  {
   "cell_type": "code",
   "execution_count": 195,
   "id": "25331349-1487-4d43-8a37-b018c15f4a17",
   "metadata": {},
   "outputs": [
    {
     "data": {
      "text/plain": [
       "0.6084975246707405"
      ]
     },
     "execution_count": 195,
     "metadata": {},
     "output_type": "execute_result"
    }
   ],
   "source": [
    "model.score(x_train,y_train)"
   ]
  },
  {
   "cell_type": "code",
   "execution_count": 196,
   "id": "ddee9651-8c34-4a92-8d5e-b132a59085b6",
   "metadata": {},
   "outputs": [
    {
     "data": {
      "text/plain": [
       "0.6602486589056528"
      ]
     },
     "execution_count": 196,
     "metadata": {},
     "output_type": "execute_result"
    }
   ],
   "source": [
    "model.score(x_test,y_test)"
   ]
  },
  {
   "cell_type": "code",
   "execution_count": 197,
   "id": "da133162-73b7-4b5c-bb04-6d6cfc1e1d3c",
   "metadata": {},
   "outputs": [
    {
     "name": "stdout",
     "output_type": "stream",
     "text": [
      "r2_score= 0.6602486589056528\n"
     ]
    }
   ],
   "source": [
    "from sklearn import metrics\n",
    "r2_score = metrics.r2_score(y_test,model_pred)\n",
    "print('r2_score=', r2_score)"
   ]
  },
  {
   "cell_type": "code",
   "execution_count": 198,
   "id": "84770571-0c98-49ad-bb26-1de98b228af2",
   "metadata": {},
   "outputs": [
    {
     "data": {
      "text/plain": [
       "0.601032733733869"
      ]
     },
     "execution_count": 198,
     "metadata": {},
     "output_type": "execute_result"
    }
   ],
   "source": [
    "from sklearn.model_selection import KFold\n",
    "from sklearn.model_selection import cross_val_score\n",
    "\n",
    "lm = LinearRegression()\n",
    "folds = KFold(n_splits = 10, shuffle = True, random_state = 42)\n",
    "scores = cross_val_score(lm, x_train, y_train, scoring='r2', cv=folds)\n",
    "scores\n",
    "accuracy_regfold = np.mean(abs(scores))\n",
    "accuracy_regfold"
   ]
  },
  {
   "cell_type": "code",
   "execution_count": 199,
   "id": "3dab36f7-9ed1-43e7-aba3-2a58b143a848",
   "metadata": {},
   "outputs": [
    {
     "data": {
      "text/plain": [
       "0.6084975246707405"
      ]
     },
     "execution_count": 199,
     "metadata": {},
     "output_type": "execute_result"
    }
   ],
   "source": [
    "model.score(x_train,y_train)"
   ]
  },
  {
   "cell_type": "code",
   "execution_count": 200,
   "id": "a3e86222-989b-4ea2-aa92-c890e203f290",
   "metadata": {},
   "outputs": [
    {
     "data": {
      "text/plain": [
       "0.6602486589056528"
      ]
     },
     "execution_count": 200,
     "metadata": {},
     "output_type": "execute_result"
    }
   ],
   "source": [
    "model.score(x_test,y_test)"
   ]
  },
  {
   "cell_type": "markdown",
   "id": "64225be4-5c2e-4ac7-9d4d-85abd767130e",
   "metadata": {},
   "source": [
    "### REGULARIZATION"
   ]
  },
  {
   "cell_type": "code",
   "execution_count": 201,
   "id": "5b87f76a-0c88-4054-94a6-08eac7b41215",
   "metadata": {},
   "outputs": [
    {
     "data": {
      "text/plain": [
       "Lasso()"
      ]
     },
     "execution_count": 201,
     "metadata": {},
     "output_type": "execute_result"
    }
   ],
   "source": [
    "from sklearn.linear_model import Lasso\n",
    "lasso_reg = Lasso()\n",
    "lasso_reg.fit(x_train, y_train)"
   ]
  },
  {
   "cell_type": "code",
   "execution_count": 202,
   "id": "94a63e80-50ec-437f-8c0a-931701e82119",
   "metadata": {},
   "outputs": [
    {
     "data": {
      "text/plain": [
       "0.6084975177629619"
      ]
     },
     "execution_count": 202,
     "metadata": {},
     "output_type": "execute_result"
    }
   ],
   "source": [
    "lasso_reg.score(x_train,y_train)"
   ]
  },
  {
   "cell_type": "code",
   "execution_count": 203,
   "id": "61c9fc99-2c0c-4cdf-9772-8b41c41e9801",
   "metadata": {},
   "outputs": [
    {
     "data": {
      "text/plain": [
       "0.6602375883745683"
      ]
     },
     "execution_count": 203,
     "metadata": {},
     "output_type": "execute_result"
    }
   ],
   "source": [
    "lasso_reg.score(x_test,y_test)"
   ]
  },
  {
   "cell_type": "code",
   "execution_count": 204,
   "id": "948b00bb-1c06-46da-98b4-9566fb1e08bc",
   "metadata": {},
   "outputs": [
    {
     "data": {
      "text/plain": [
       "Ridge()"
      ]
     },
     "execution_count": 204,
     "metadata": {},
     "output_type": "execute_result"
    }
   ],
   "source": [
    "from sklearn.linear_model import Ridge\n",
    "ridge_reg = Ridge()\n",
    "ridge_reg.fit(x_train, y_train)"
   ]
  },
  {
   "cell_type": "code",
   "execution_count": 205,
   "id": "c690783d-78dc-4d6f-b594-f533ef1e9d5c",
   "metadata": {},
   "outputs": [
    {
     "data": {
      "text/plain": [
       "0.6084969973266146"
      ]
     },
     "execution_count": 205,
     "metadata": {},
     "output_type": "execute_result"
    }
   ],
   "source": [
    "ridge_reg.score(x_train,y_train)"
   ]
  },
  {
   "cell_type": "code",
   "execution_count": 206,
   "id": "bbf34442-1e9a-43f1-aacc-1e523266bb5c",
   "metadata": {},
   "outputs": [
    {
     "data": {
      "text/plain": [
       "0.6601515045032204"
      ]
     },
     "execution_count": 206,
     "metadata": {},
     "output_type": "execute_result"
    }
   ],
   "source": [
    "ridge_reg.score(x_test,y_test)"
   ]
  },
  {
   "cell_type": "code",
   "execution_count": 207,
   "id": "ea6b6206-bafe-4516-9358-64e926e314e8",
   "metadata": {},
   "outputs": [
    {
     "data": {
      "text/plain": [
       "ElasticNet()"
      ]
     },
     "execution_count": 207,
     "metadata": {},
     "output_type": "execute_result"
    }
   ],
   "source": [
    "from sklearn.linear_model import ElasticNet\n",
    "En_reg= ElasticNet()\n",
    "En_reg.fit(x_train, y_train)"
   ]
  },
  {
   "cell_type": "code",
   "execution_count": 208,
   "id": "5fe139c7-4912-489f-9ed3-234282b57e33",
   "metadata": {},
   "outputs": [
    {
     "data": {
      "text/plain": [
       "0.5411405121616942"
      ]
     },
     "execution_count": 208,
     "metadata": {},
     "output_type": "execute_result"
    }
   ],
   "source": [
    "En_reg.score(x_train, y_train)"
   ]
  },
  {
   "cell_type": "code",
   "execution_count": 209,
   "id": "fe075a66-1aaf-4886-b38e-c766db069119",
   "metadata": {},
   "outputs": [
    {
     "data": {
      "text/plain": [
       "0.5640066811143002"
      ]
     },
     "execution_count": 209,
     "metadata": {},
     "output_type": "execute_result"
    }
   ],
   "source": [
    "En_reg.score(x_test, y_test)"
   ]
  },
  {
   "cell_type": "markdown",
   "id": "e5c98118-b0e0-499e-9cef-073e98afb9a8",
   "metadata": {},
   "source": [
    "## MULTIPLE REGRESSION\n",
    "### SELECTION OF FEATURE AND TARGET FOR THE DATA\n",
    "\n"
   ]
  },
  {
   "cell_type": "code",
   "execution_count": 210,
   "id": "d33aac47-e673-4d40-b4b6-c2a29c993d4d",
   "metadata": {},
   "outputs": [],
   "source": [
    "x1 = data.drop('charges', axis =1)\n",
    "y1 = data[\"charges\"]"
   ]
  },
  {
   "cell_type": "markdown",
   "id": "01cfbbb6-7389-4221-bd18-c16ad3320390",
   "metadata": {},
   "source": [
    "### STANDARDIZATION"
   ]
  },
  {
   "cell_type": "code",
   "execution_count": 211,
   "id": "fd0d3b1a-cb97-4622-a35b-330a1e03ae1a",
   "metadata": {},
   "outputs": [
    {
     "name": "stdout",
     "output_type": "stream",
     "text": [
      "[[-1.43876426 -0.45332    -0.90861367 ... -0.56641788 -0.61132367\n",
      "   1.76548098]\n",
      " [-1.50996545  0.5096211  -0.07876719 ... -0.56641788  1.63579466\n",
      "  -0.56641788]\n",
      " [-0.79795355  0.38330685  1.58092576 ... -0.56641788  1.63579466\n",
      "  -0.56641788]\n",
      " ...\n",
      " [-1.50996545  1.0148781  -0.90861367 ... -0.56641788  1.63579466\n",
      "  -0.56641788]\n",
      " [-1.29636188 -0.79781341 -0.90861367 ... -0.56641788 -0.61132367\n",
      "   1.76548098]\n",
      " [ 1.55168573 -0.26138796 -0.90861367 ...  1.76548098 -0.61132367\n",
      "  -0.56641788]]\n"
     ]
    }
   ],
   "source": [
    "from sklearn.preprocessing import StandardScaler\n",
    "scaler = StandardScaler()\n",
    "scaled1 = scaler.fit_transform(x1)\n",
    "print(scaled1)"
   ]
  },
  {
   "cell_type": "raw",
   "id": "26dbb337-f462-4ab2-9924-31e7ff567531",
   "metadata": {
    "tags": []
   },
   "source": [
    "\n",
    "! pip install pyforest\n",
    "from pyforest import*\n",
    "lazy_imports()"
   ]
  },
  {
   "cell_type": "markdown",
   "id": "5edd2107-d5d9-41f1-95ed-b2067dc5e66e",
   "metadata": {},
   "source": [
    "### BIFIRCATE DATA INTO\n",
    "    1. TRAIN ---- 80%\n",
    "    2. TEST ----- 20%\n"
   ]
  },
  {
   "cell_type": "code",
   "execution_count": 212,
   "id": "aa91ccee-bd2b-4993-a0b3-df9ea17311a6",
   "metadata": {},
   "outputs": [],
   "source": [
    "from sklearn.model_selection import train_test_split\n",
    "x1_train,x1_test, y1_train,y1_test = train_test_split(scaled1,y1,test_size = 0.2, random_state =42)"
   ]
  },
  {
   "cell_type": "markdown",
   "id": "c27e3724-8ecb-416e-b895-9954764d6020",
   "metadata": {},
   "source": [
    "### MODEL FITTING"
   ]
  },
  {
   "cell_type": "code",
   "execution_count": 213,
   "id": "c9dcbb35-e414-4b22-860a-5b24c14e9018",
   "metadata": {},
   "outputs": [],
   "source": [
    "from sklearn.linear_model import LinearRegression\n",
    "model = LinearRegression().fit(x1_train,y1_train)\n",
    "\n",
    "model_pred = model.predict(x1_test)"
   ]
  },
  {
   "cell_type": "code",
   "execution_count": 214,
   "id": "cb9e98fe-3ef8-453f-bbd0-172f884f8485",
   "metadata": {},
   "outputs": [
    {
     "data": {
      "text/plain": [
       "0.7417255854683333"
      ]
     },
     "execution_count": 214,
     "metadata": {},
     "output_type": "execute_result"
    }
   ],
   "source": [
    "model.score(x1_train,y1_train)"
   ]
  },
  {
   "cell_type": "code",
   "execution_count": 215,
   "id": "22137000-5d61-4b93-a418-547117223d14",
   "metadata": {},
   "outputs": [
    {
     "data": {
      "text/plain": [
       "0.7835929767120722"
      ]
     },
     "execution_count": 215,
     "metadata": {},
     "output_type": "execute_result"
    }
   ],
   "source": [
    "model.score(x1_test,y1_test)"
   ]
  },
  {
   "cell_type": "code",
   "execution_count": 216,
   "id": "c121afff-ea8d-4aa3-8164-e9908ae0cf4f",
   "metadata": {},
   "outputs": [
    {
     "name": "stdout",
     "output_type": "stream",
     "text": [
      "r2_score= 0.7835929767120722\n"
     ]
    }
   ],
   "source": [
    "from sklearn import metrics\n",
    "r2_score_1 = metrics.r2_score(y1_test,model_pred)\n",
    "print('r2_score=', r2_score_1)"
   ]
  },
  {
   "cell_type": "markdown",
   "id": "0dda0924-cc9d-41df-9a3b-9f32df9124e6",
   "metadata": {},
   "source": [
    "##### train < test : which means the learning is self predictin data/self actualizing\n",
    "##### hence it is overfitting"
   ]
  },
  {
   "cell_type": "markdown",
   "id": "64830c5d-d957-48d1-8c73-dc52ec52181e",
   "metadata": {
    "tags": []
   },
   "source": [
    "### K-FOLD"
   ]
  },
  {
   "cell_type": "code",
   "execution_count": 217,
   "id": "28136fa4-ae67-4181-94dc-32e2fbcb8509",
   "metadata": {},
   "outputs": [
    {
     "data": {
      "text/plain": [
       "0.735589567023663"
      ]
     },
     "execution_count": 217,
     "metadata": {},
     "output_type": "execute_result"
    }
   ],
   "source": [
    "from sklearn.model_selection import KFold\n",
    "from sklearn.model_selection import cross_val_score\n",
    "\n",
    "lm1 = LinearRegression()\n",
    "folds1 = KFold(n_splits = 10, shuffle = True, random_state = 42)\n",
    "scores1 = cross_val_score(lm1, x1_train, y1_train, scoring='r2', cv=folds1)\n",
    "scores1\n",
    "accuracy_regfold1 = np.mean(abs(scores1))\n",
    "accuracy_regfold1"
   ]
  },
  {
   "cell_type": "markdown",
   "id": "b8c6f577-5c32-4c71-a94f-e2414c206267",
   "metadata": {},
   "source": [
    "### GRID CV"
   ]
  },
  {
   "cell_type": "code",
   "execution_count": 218,
   "id": "56f01761-f8c3-456b-9bd8-a3d5453b7bbe",
   "metadata": {},
   "outputs": [
    {
     "name": "stdout",
     "output_type": "stream",
     "text": [
      "Fitting 5 folds for each of 13 candidates, totalling 65 fits\n"
     ]
    },
    {
     "data": {
      "text/plain": [
       "GridSearchCV(cv=KFold(n_splits=5, random_state=42, shuffle=True),\n",
       "             estimator=RFE(estimator=LinearRegression()),\n",
       "             param_grid=[{'n_features_to_select': [1, 2, 3, 4, 5, 6, 7, 8, 9,\n",
       "                                                   10, 11, 12, 13]}],\n",
       "             return_train_score=True, scoring='r2', verbose=1)"
      ]
     },
     "execution_count": 218,
     "metadata": {},
     "output_type": "execute_result"
    }
   ],
   "source": [
    "folds1 = KFold(n_splits = 5, shuffle = True, random_state = 42)\n",
    "hyper_params = [{'n_features_to_select': list(range(1, 14))}]\n",
    "\n",
    "from sklearn.feature_selection import RFE\n",
    "rfe = RFE(lm1)             \n",
    "\n",
    "from sklearn.model_selection import GridSearchCV\n",
    "model_cv = GridSearchCV(estimator = rfe, \n",
    "                        param_grid = hyper_params, \n",
    "                        scoring= 'r2', \n",
    "                        cv = folds1, \n",
    "                        verbose = 1,\n",
    "                        return_train_score=True)      \n",
    "\n",
    "# fit the model\n",
    "model_cv.fit(x1_train, y1_train)        "
   ]
  },
  {
   "cell_type": "code",
   "execution_count": 219,
   "id": "02fd6aad-b1fd-45ea-868d-090f2e6c5df7",
   "metadata": {},
   "outputs": [
    {
     "name": "stdout",
     "output_type": "stream",
     "text": [
      "{'n_features_to_select': 6}\n",
      "RFE(estimator=LinearRegression(), n_features_to_select=6)\n"
     ]
    }
   ],
   "source": [
    "print(model_cv.best_params_)\n",
    "print(model_cv.best_estimator_)"
   ]
  },
  {
   "cell_type": "code",
   "execution_count": 220,
   "id": "c7ad117a-a23b-4b86-be2c-78c01de5082c",
   "metadata": {},
   "outputs": [],
   "source": [
    "rfe = RFE(model,n_features_to_select=6) \n",
    "y_cv_pred = model.predict(x1_test)\n"
   ]
  },
  {
   "cell_type": "code",
   "execution_count": 221,
   "id": "aeeb6b9b-ee81-4319-81ae-b8bc128f0b38",
   "metadata": {},
   "outputs": [
    {
     "data": {
      "text/plain": [
       "0.7417255854683333"
      ]
     },
     "execution_count": 221,
     "metadata": {},
     "output_type": "execute_result"
    }
   ],
   "source": [
    "model.score(x1_train,y1_train)"
   ]
  },
  {
   "cell_type": "code",
   "execution_count": 222,
   "id": "aa462499-4893-4744-a8a0-38300ce8ba05",
   "metadata": {},
   "outputs": [
    {
     "data": {
      "text/plain": [
       "0.7835929767120722"
      ]
     },
     "execution_count": 222,
     "metadata": {},
     "output_type": "execute_result"
    }
   ],
   "source": [
    "model.score(x1_test,y1_test)"
   ]
  },
  {
   "cell_type": "markdown",
   "id": "416bc32b-610c-401a-ad75-8ca557bffaf3",
   "metadata": {},
   "source": [
    "### REGULARIZATION"
   ]
  },
  {
   "cell_type": "code",
   "execution_count": 223,
   "id": "bbeef81a-bdec-40ac-97b9-1ef938b6a2ae",
   "metadata": {},
   "outputs": [
    {
     "data": {
      "text/plain": [
       "Lasso()"
      ]
     },
     "execution_count": 223,
     "metadata": {},
     "output_type": "execute_result"
    }
   ],
   "source": [
    "from sklearn.linear_model import Lasso\n",
    "lasso_reg = Lasso()\n",
    "lasso_reg.fit(x1_train, y1_train)"
   ]
  },
  {
   "cell_type": "code",
   "execution_count": 224,
   "id": "49c742ba-04f2-44c0-8f4b-0ddecd35a706",
   "metadata": {},
   "outputs": [
    {
     "data": {
      "text/plain": [
       "0.7417254783250269"
      ]
     },
     "execution_count": 224,
     "metadata": {},
     "output_type": "execute_result"
    }
   ],
   "source": [
    "lasso_reg.score(x1_train,y1_train)"
   ]
  },
  {
   "cell_type": "code",
   "execution_count": 225,
   "id": "4951edc1-ad60-46cc-b8bd-1c6c5a56ef7e",
   "metadata": {},
   "outputs": [
    {
     "data": {
      "text/plain": [
       "0.7835656905935344"
      ]
     },
     "execution_count": 225,
     "metadata": {},
     "output_type": "execute_result"
    }
   ],
   "source": [
    "lasso_reg.score(x1_test,y1_test)"
   ]
  },
  {
   "cell_type": "code",
   "execution_count": 226,
   "id": "174b31aa-368e-4bda-ba0a-ad67edf35bc3",
   "metadata": {},
   "outputs": [
    {
     "data": {
      "text/plain": [
       "Ridge(alpha=50, max_iter=100, tol=0.1)"
      ]
     },
     "execution_count": 226,
     "metadata": {},
     "output_type": "execute_result"
    }
   ],
   "source": [
    "from sklearn.linear_model import Ridge\n",
    "ridge_reg = Ridge(alpha=50, max_iter=100, tol=0.1)\n",
    "ridge_reg.fit(x1_train, y1_train)"
   ]
  },
  {
   "cell_type": "code",
   "execution_count": 227,
   "id": "7167931e-7be7-4bcc-85b6-08ba67b6c3e8",
   "metadata": {},
   "outputs": [
    {
     "data": {
      "text/plain": [
       "0.7401763500019942"
      ]
     },
     "execution_count": 227,
     "metadata": {},
     "output_type": "execute_result"
    }
   ],
   "source": [
    "ridge_reg.score(x1_train, y1_train)"
   ]
  },
  {
   "cell_type": "code",
   "execution_count": 228,
   "id": "a1e9ec0f-5222-4991-a836-67918601ff2c",
   "metadata": {},
   "outputs": [
    {
     "data": {
      "text/plain": [
       "0.7796544369309187"
      ]
     },
     "execution_count": 228,
     "metadata": {},
     "output_type": "execute_result"
    }
   ],
   "source": [
    "ridge_reg.score(x1_test, y1_test)"
   ]
  },
  {
   "cell_type": "code",
   "execution_count": 229,
   "id": "7bbef5b6-632d-4625-9b6b-716195c5c1ee",
   "metadata": {},
   "outputs": [
    {
     "data": {
      "text/plain": [
       "ElasticNet()"
      ]
     },
     "execution_count": 229,
     "metadata": {},
     "output_type": "execute_result"
    }
   ],
   "source": [
    "from sklearn.linear_model import ElasticNet\n",
    "En_reg= ElasticNet()\n",
    "En_reg.fit(x1_train, y1_train)"
   ]
  },
  {
   "cell_type": "code",
   "execution_count": 230,
   "id": "9e642070-8e1b-4015-9e7d-079834d41959",
   "metadata": {},
   "outputs": [
    {
     "data": {
      "text/plain": [
       "0.6574899417106346"
      ]
     },
     "execution_count": 230,
     "metadata": {},
     "output_type": "execute_result"
    }
   ],
   "source": [
    "En_reg.score(x1_train, y1_train)"
   ]
  },
  {
   "cell_type": "code",
   "execution_count": 231,
   "id": "a49fc09b-04ff-450d-b37f-e55848d493eb",
   "metadata": {},
   "outputs": [
    {
     "data": {
      "text/plain": [
       "0.6835454864133703"
      ]
     },
     "execution_count": 231,
     "metadata": {},
     "output_type": "execute_result"
    }
   ],
   "source": [
    "En_reg.score(x1_test, y1_test)"
   ]
  },
  {
   "cell_type": "code",
   "execution_count": 232,
   "id": "2b1847a7-c73c-42b3-b0f1-b580aa74e516",
   "metadata": {},
   "outputs": [
    {
     "name": "stdout",
     "output_type": "stream",
     "text": [
      "Requirement already satisfied: pyforest in c:\\users\\hp\\anaconda3\\lib\\site-packages (1.1.0)\n"
     ]
    },
    {
     "data": {
      "text/plain": [
       "['import gensim',\n",
       " 'import pydot',\n",
       " 'from pyspark import SparkContext',\n",
       " 'from PIL import Image',\n",
       " 'import os',\n",
       " 'import torch',\n",
       " 'import plotly.express as px',\n",
       " 'import seaborn as sns',\n",
       " 'import textblob',\n",
       " 'import spacy',\n",
       " 'from sklearn.linear_model import Ridge',\n",
       " 'import datetime as dt',\n",
       " 'from sklearn.model_selection import cross_val_score',\n",
       " 'from fbprophet import Prophet',\n",
       " 'import pandas as pd',\n",
       " 'from sklearn.model_selection import GridSearchCV',\n",
       " 'from sklearn.preprocessing import OneHotEncoder',\n",
       " 'from dask import dataframe as dd',\n",
       " 'import altair as alt',\n",
       " 'import lightgbm as lgb',\n",
       " 'from sklearn.ensemble import RandomForestClassifier',\n",
       " 'from pathlib import Path',\n",
       " 'import cv2',\n",
       " 'from statsmodels.tsa.arima_model import ARIMA',\n",
       " 'import bokeh',\n",
       " 'from openpyxl import load_workbook',\n",
       " 'import imutils',\n",
       " 'from sklearn.linear_model import LinearRegression',\n",
       " 'from sklearn.preprocessing import RobustScaler',\n",
       " 'from sklearn.preprocessing import LabelEncoder',\n",
       " 'from sklearn.preprocessing import PolynomialFeatures',\n",
       " 'from sklearn.ensemble import GradientBoostingRegressor',\n",
       " 'from sklearn.ensemble import GradientBoostingClassifier',\n",
       " 'from sklearn.preprocessing import StandardScaler',\n",
       " 'import plotly.graph_objs as go',\n",
       " 'from sklearn.model_selection import RandomizedSearchCV',\n",
       " 'from sklearn.impute import SimpleImputer',\n",
       " 'import numpy as np',\n",
       " 'from scipy import signal as sg',\n",
       " 'from sklearn import metrics',\n",
       " 'from sklearn.linear_model import ElasticNet',\n",
       " 'from sklearn.linear_model import ElasticNetCV',\n",
       " 'import statsmodels.api as sm',\n",
       " 'import sklearn',\n",
       " 'import keras',\n",
       " 'from sklearn.linear_model import Lasso',\n",
       " 'from sklearn.cluster import KMeans',\n",
       " 'from scipy import stats',\n",
       " 'from sklearn.model_selection import train_test_split',\n",
       " 'import fbprophet',\n",
       " 'import tqdm',\n",
       " 'from sklearn.linear_model import RidgeCV',\n",
       " 'import skimage',\n",
       " 'from xlrd import open_workbook',\n",
       " 'from sklearn.ensemble import RandomForestRegressor',\n",
       " 'import matplotlib as mpl',\n",
       " 'import statistics',\n",
       " 'import fastai',\n",
       " 'import sys',\n",
       " 'from sklearn.preprocessing import MinMaxScaler',\n",
       " 'import re',\n",
       " 'from sklearn.model_selection import StratifiedKFold',\n",
       " 'from sklearn.decomposition import PCA',\n",
       " 'from sklearn.feature_extraction.text import TfidfVectorizer',\n",
       " 'from sklearn.manifold import TSNE',\n",
       " 'import tensorflow as tf',\n",
       " 'from sklearn.feature_extraction.text import CountVectorizer',\n",
       " 'import nltk',\n",
       " 'import pickle',\n",
       " 'import awswrangler as wr',\n",
       " 'import xgboost as xgb',\n",
       " 'import matplotlib.pyplot as plt',\n",
       " 'from sklearn.linear_model import LogisticRegression',\n",
       " 'from sklearn.linear_model import LassoCV',\n",
       " 'import glob',\n",
       " 'import plotly as py',\n",
       " 'import dash',\n",
       " 'from sklearn import svm']"
      ]
     },
     "execution_count": 232,
     "metadata": {},
     "output_type": "execute_result"
    }
   ],
   "source": [
    "! pip install pyforest\n",
    "from pyforest import*\n",
    "lazy_imports()"
   ]
  },
  {
   "cell_type": "markdown",
   "id": "c5901dc9-d91d-471c-b64c-ca814b101f6e",
   "metadata": {},
   "source": [
    "### DESCISION TREE REGRESSION"
   ]
  },
  {
   "cell_type": "code",
   "execution_count": 233,
   "id": "af57068d-4236-4276-8215-2cbff1d2a9e0",
   "metadata": {},
   "outputs": [],
   "source": [
    "from sklearn.tree import DecisionTreeRegressor\n",
    "DT = DecisionTreeRegressor()\n",
    "model_DT= DT.fit(x1_train,y1_train)"
   ]
  },
  {
   "cell_type": "code",
   "execution_count": 234,
   "id": "d7ae46d3-c537-4cfc-b540-77aadcb3d0fa",
   "metadata": {},
   "outputs": [
    {
     "data": {
      "text/plain": [
       "0.9983078124756305"
      ]
     },
     "execution_count": 234,
     "metadata": {},
     "output_type": "execute_result"
    }
   ],
   "source": [
    "model_DT.score(x1_train, y1_train)"
   ]
  },
  {
   "cell_type": "code",
   "execution_count": 235,
   "id": "ff2e9c01-3ed3-45dd-8dcb-44882c61c02f",
   "metadata": {},
   "outputs": [
    {
     "data": {
      "text/plain": [
       "0.6881153664334758"
      ]
     },
     "execution_count": 235,
     "metadata": {},
     "output_type": "execute_result"
    }
   ],
   "source": [
    "model_DT.score(x1_test, y1_test)"
   ]
  },
  {
   "cell_type": "code",
   "execution_count": 236,
   "id": "cff6ec3c-3c2c-42c5-9514-f043855e00fa",
   "metadata": {},
   "outputs": [
    {
     "data": {
      "application/javascript": [
       "\n",
       "        if (window._pyforest_update_imports_cell) { window._pyforest_update_imports_cell('from sklearn.model_selection import KFold'); }\n",
       "    "
      ],
      "text/plain": [
       "<IPython.core.display.Javascript object>"
      ]
     },
     "metadata": {},
     "output_type": "display_data"
    },
    {
     "name": "stdout",
     "output_type": "stream",
     "text": [
      "Fitting 5 folds for each of 13 candidates, totalling 65 fits\n"
     ]
    },
    {
     "data": {
      "text/plain": [
       "GridSearchCV(cv=KFold(n_splits=5, random_state=42, shuffle=True),\n",
       "             estimator=RFE(estimator=DecisionTreeRegressor()),\n",
       "             param_grid=[{'n_features_to_select': [1, 2, 3, 4, 5, 6, 7, 8, 9,\n",
       "                                                   10, 11, 12, 13]}],\n",
       "             return_train_score=True, scoring='r2', verbose=1)"
      ]
     },
     "execution_count": 236,
     "metadata": {},
     "output_type": "execute_result"
    }
   ],
   "source": [
    "folds2 = KFold(n_splits = 5, shuffle = True, random_state = 42)\n",
    "hyper_params = [{'n_features_to_select': list(range(1, 14))}]\n",
    "\n",
    "from sklearn.feature_selection import RFE\n",
    "rfe = RFE(model_DT)             \n",
    "\n",
    "from sklearn.model_selection import GridSearchCV\n",
    "model_cv_dt = GridSearchCV(estimator = rfe, \n",
    "                        param_grid = hyper_params, \n",
    "                        scoring= 'r2', \n",
    "                        cv = folds2, \n",
    "                        verbose = 1,\n",
    "                        return_train_score=True)      \n",
    "\n",
    "# fit the model\n",
    "model_cv_dt.fit(x1_train, y1_train)        "
   ]
  },
  {
   "cell_type": "code",
   "execution_count": 237,
   "id": "639ee9ba-b60f-40b2-ade9-c4f03ff46d41",
   "metadata": {},
   "outputs": [
    {
     "name": "stdout",
     "output_type": "stream",
     "text": [
      "{'n_features_to_select': 5}\n",
      "RFE(estimator=DecisionTreeRegressor(), n_features_to_select=5)\n"
     ]
    }
   ],
   "source": [
    "print(model_cv_dt.best_params_)\n",
    "print(model_cv_dt.best_estimator_)"
   ]
  },
  {
   "cell_type": "code",
   "execution_count": 238,
   "id": "c1a74efd-9bc5-4362-a6e7-44d68030be30",
   "metadata": {},
   "outputs": [],
   "source": [
    "rfe = RFE(model_cv_dt,n_features_to_select=model_cv_dt.best_params_) \n",
    "y_dt_pred = model_cv_dt.predict(x1_test)\n"
   ]
  },
  {
   "cell_type": "code",
   "execution_count": 239,
   "id": "9aa0d37a-5cda-4ec5-86da-2377829ae149",
   "metadata": {},
   "outputs": [
    {
     "data": {
      "text/plain": [
       "0.998304727194411"
      ]
     },
     "execution_count": 239,
     "metadata": {},
     "output_type": "execute_result"
    }
   ],
   "source": [
    "model_cv_dt.score(x1_train, y1_train)"
   ]
  },
  {
   "cell_type": "code",
   "execution_count": 240,
   "id": "317a2928-6bc8-481e-8d24-bc47bfa63e97",
   "metadata": {},
   "outputs": [
    {
     "data": {
      "text/plain": [
       "0.7632242114974788"
      ]
     },
     "execution_count": 240,
     "metadata": {},
     "output_type": "execute_result"
    }
   ],
   "source": [
    "model_cv_dt.score(x1_test, y1_test)"
   ]
  },
  {
   "cell_type": "markdown",
   "id": "65f47575-988e-40a5-b8cc-31c5fc3bfccf",
   "metadata": {},
   "source": [
    "### RANDOM FOREST REGRESSOR"
   ]
  },
  {
   "cell_type": "code",
   "execution_count": 241,
   "id": "998876ac-1712-4d32-bef6-d855ba63f526",
   "metadata": {},
   "outputs": [],
   "source": [
    "from sklearn.ensemble import RandomForestRegressor\n",
    "RF = RandomForestRegressor()\n",
    "model_RF = RF.fit(x1_train, y1_train)"
   ]
  },
  {
   "cell_type": "code",
   "execution_count": 242,
   "id": "48c8a920-f37a-4e02-b33c-d8d1f4286be7",
   "metadata": {},
   "outputs": [
    {
     "data": {
      "text/plain": [
       "0.9746040280544018"
      ]
     },
     "execution_count": 242,
     "metadata": {},
     "output_type": "execute_result"
    }
   ],
   "source": [
    "model_RF.score(x1_train, y1_train)"
   ]
  },
  {
   "cell_type": "code",
   "execution_count": 243,
   "id": "a05b8713-e11b-43e0-bf23-1837ab2b87b7",
   "metadata": {},
   "outputs": [
    {
     "data": {
      "text/plain": [
       "0.868164483237601"
      ]
     },
     "execution_count": 243,
     "metadata": {},
     "output_type": "execute_result"
    }
   ],
   "source": [
    "model_RF.score(x1_test, y1_test)"
   ]
  },
  {
   "cell_type": "code",
   "execution_count": 244,
   "id": "e0ff1e47-6009-4953-b9b6-0c2c1dffe47e",
   "metadata": {},
   "outputs": [
    {
     "data": {
      "application/javascript": [
       "\n",
       "        if (window._pyforest_update_imports_cell) { window._pyforest_update_imports_cell('from sklearn.model_selection import KFold'); }\n",
       "    "
      ],
      "text/plain": [
       "<IPython.core.display.Javascript object>"
      ]
     },
     "metadata": {},
     "output_type": "display_data"
    },
    {
     "name": "stdout",
     "output_type": "stream",
     "text": [
      "Fitting 5 folds for each of 13 candidates, totalling 65 fits\n"
     ]
    },
    {
     "data": {
      "text/plain": [
       "GridSearchCV(cv=KFold(n_splits=5, random_state=42, shuffle=True),\n",
       "             estimator=RFE(estimator=RandomForestRegressor()),\n",
       "             param_grid=[{'n_features_to_select': [1, 2, 3, 4, 5, 6, 7, 8, 9,\n",
       "                                                   10, 11, 12, 13]}],\n",
       "             return_train_score=True, scoring='r2', verbose=1)"
      ]
     },
     "execution_count": 244,
     "metadata": {},
     "output_type": "execute_result"
    }
   ],
   "source": [
    "folds3 = KFold(n_splits = 5, shuffle = True, random_state = 42)\n",
    "hyper_params = [{'n_features_to_select': list(range(1, 14))}]\n",
    "\n",
    "from sklearn.feature_selection import RFE\n",
    "rfe = RFE(model_RF)             \n",
    "\n",
    "from sklearn.model_selection import GridSearchCV\n",
    "model_cv_rf = GridSearchCV(estimator = rfe, \n",
    "                        param_grid = hyper_params, \n",
    "                        scoring= 'r2', \n",
    "                        cv = folds3, \n",
    "                        verbose = 1,\n",
    "                        return_train_score=True)      \n",
    "\n",
    "# fit the model\n",
    "model_cv_rf.fit(x1_train, y1_train)  "
   ]
  },
  {
   "cell_type": "code",
   "execution_count": 245,
   "id": "1424e6bd-34db-473e-91d5-699de8c5a237",
   "metadata": {},
   "outputs": [
    {
     "name": "stdout",
     "output_type": "stream",
     "text": [
      "{'n_features_to_select': 8}\n",
      "RFE(estimator=RandomForestRegressor(), n_features_to_select=8)\n"
     ]
    }
   ],
   "source": [
    "print(model_cv_rf.best_params_)\n",
    "print(model_cv_rf.best_estimator_)"
   ]
  },
  {
   "cell_type": "code",
   "execution_count": 246,
   "id": "e74c8e4c-b13b-4fcf-90c6-3ed5f95b71de",
   "metadata": {},
   "outputs": [],
   "source": [
    "rfe = RFE(model_cv_rf,n_features_to_select=model_cv_rf.best_params_) \n",
    "y_rf_pred = model_cv_rf.predict(x1_test)"
   ]
  },
  {
   "cell_type": "code",
   "execution_count": 247,
   "id": "89e81a5f-be17-4d0e-8c86-5a9dc8bf233f",
   "metadata": {},
   "outputs": [
    {
     "data": {
      "text/plain": [
       "0.9751581318593009"
      ]
     },
     "execution_count": 247,
     "metadata": {},
     "output_type": "execute_result"
    }
   ],
   "source": [
    "model_cv_rf.score(x1_train, y1_train)"
   ]
  },
  {
   "cell_type": "code",
   "execution_count": 248,
   "id": "9784ea13-1168-4433-bcef-5f6faf4e4392",
   "metadata": {},
   "outputs": [
    {
     "data": {
      "text/plain": [
       "0.8653956502475828"
      ]
     },
     "execution_count": 248,
     "metadata": {},
     "output_type": "execute_result"
    }
   ],
   "source": [
    "model_cv_rf.score(x1_test, y1_test)"
   ]
  },
  {
   "cell_type": "markdown",
   "id": "f87f46c1-2982-47f5-89f1-7bff029abf4e",
   "metadata": {},
   "source": [
    "# THE BEST MODEL\n",
    "\n",
    "#### I have worked and used 4 different to find the best model to use.\n",
    "##### I have applied these 4 different algorithms on the data set:\n",
    "\n",
    "1. LINEAR REGRESSION\n",
    "2. MULTIPLE REGRESSION\n",
    "3. DECISION TREE REGRESSOR\n",
    "4. RANDOM FOREST REGRESSOR\n",
    "\n",
    "The model that works the best amongst all the 4 is **RANDOM FOREST REGRESSOR**"
   ]
  },
  {
   "cell_type": "markdown",
   "id": "a50709df-8378-48f0-a4c0-aae198777994",
   "metadata": {},
   "source": [
    "## PREDICTION OF DATA"
   ]
  },
  {
   "cell_type": "code",
   "execution_count": 250,
   "id": "dd7fc746-326d-41e5-81e4-5a5b75f82862",
   "metadata": {},
   "outputs": [
    {
     "data": {
      "text/html": [
       "<div>\n",
       "<style scoped>\n",
       "    .dataframe tbody tr th:only-of-type {\n",
       "        vertical-align: middle;\n",
       "    }\n",
       "\n",
       "    .dataframe tbody tr th {\n",
       "        vertical-align: top;\n",
       "    }\n",
       "\n",
       "    .dataframe thead th {\n",
       "        text-align: right;\n",
       "    }\n",
       "</style>\n",
       "<table border=\"1\" class=\"dataframe\">\n",
       "  <thead>\n",
       "    <tr style=\"text-align: right;\">\n",
       "      <th></th>\n",
       "      <th>age</th>\n",
       "      <th>bmi</th>\n",
       "      <th>children</th>\n",
       "      <th>sex_male</th>\n",
       "      <th>smoker_yes</th>\n",
       "      <th>region_northwest</th>\n",
       "      <th>region_southeast</th>\n",
       "      <th>region_southwest</th>\n",
       "    </tr>\n",
       "  </thead>\n",
       "  <tbody>\n",
       "    <tr>\n",
       "      <th>0</th>\n",
       "      <td>19</td>\n",
       "      <td>27.900</td>\n",
       "      <td>0</td>\n",
       "      <td>0</td>\n",
       "      <td>1</td>\n",
       "      <td>0</td>\n",
       "      <td>0</td>\n",
       "      <td>1</td>\n",
       "    </tr>\n",
       "    <tr>\n",
       "      <th>1</th>\n",
       "      <td>18</td>\n",
       "      <td>33.770</td>\n",
       "      <td>1</td>\n",
       "      <td>1</td>\n",
       "      <td>0</td>\n",
       "      <td>0</td>\n",
       "      <td>1</td>\n",
       "      <td>0</td>\n",
       "    </tr>\n",
       "    <tr>\n",
       "      <th>2</th>\n",
       "      <td>28</td>\n",
       "      <td>33.000</td>\n",
       "      <td>3</td>\n",
       "      <td>1</td>\n",
       "      <td>0</td>\n",
       "      <td>0</td>\n",
       "      <td>1</td>\n",
       "      <td>0</td>\n",
       "    </tr>\n",
       "    <tr>\n",
       "      <th>3</th>\n",
       "      <td>33</td>\n",
       "      <td>22.705</td>\n",
       "      <td>0</td>\n",
       "      <td>1</td>\n",
       "      <td>0</td>\n",
       "      <td>1</td>\n",
       "      <td>0</td>\n",
       "      <td>0</td>\n",
       "    </tr>\n",
       "    <tr>\n",
       "      <th>4</th>\n",
       "      <td>32</td>\n",
       "      <td>28.880</td>\n",
       "      <td>0</td>\n",
       "      <td>1</td>\n",
       "      <td>0</td>\n",
       "      <td>1</td>\n",
       "      <td>0</td>\n",
       "      <td>0</td>\n",
       "    </tr>\n",
       "  </tbody>\n",
       "</table>\n",
       "</div>"
      ],
      "text/plain": [
       "   age     bmi  children  sex_male  smoker_yes  region_northwest  \\\n",
       "0   19  27.900         0         0           1                 0   \n",
       "1   18  33.770         1         1           0                 0   \n",
       "2   28  33.000         3         1           0                 0   \n",
       "3   33  22.705         0         1           0                 1   \n",
       "4   32  28.880         0         1           0                 1   \n",
       "\n",
       "   region_southeast  region_southwest  \n",
       "0                 0                 1  \n",
       "1                 1                 0  \n",
       "2                 1                 0  \n",
       "3                 0                 0  \n",
       "4                 0                 0  "
      ]
     },
     "execution_count": 250,
     "metadata": {},
     "output_type": "execute_result"
    }
   ],
   "source": [
    "x1.head()"
   ]
  },
  {
   "cell_type": "code",
   "execution_count": 266,
   "id": "5b862e44-25f7-4c46-aa66-34392b09414d",
   "metadata": {},
   "outputs": [
    {
     "data": {
      "application/javascript": [
       "\n",
       "        if (window._pyforest_update_imports_cell) { window._pyforest_update_imports_cell('from sklearn.model_selection import KFold\\nimport pandas as pd'); }\n",
       "    "
      ],
      "text/plain": [
       "<IPython.core.display.Javascript object>"
      ]
     },
     "metadata": {},
     "output_type": "display_data"
    },
    {
     "data": {
      "text/html": [
       "<div>\n",
       "<style scoped>\n",
       "    .dataframe tbody tr th:only-of-type {\n",
       "        vertical-align: middle;\n",
       "    }\n",
       "\n",
       "    .dataframe tbody tr th {\n",
       "        vertical-align: top;\n",
       "    }\n",
       "\n",
       "    .dataframe thead th {\n",
       "        text-align: right;\n",
       "    }\n",
       "</style>\n",
       "<table border=\"1\" class=\"dataframe\">\n",
       "  <thead>\n",
       "    <tr style=\"text-align: right;\">\n",
       "      <th></th>\n",
       "      <th>age</th>\n",
       "      <th>bmi</th>\n",
       "      <th>children</th>\n",
       "      <th>sex_male</th>\n",
       "      <th>smoker_yes</th>\n",
       "      <th>region_northwest</th>\n",
       "      <th>region_southeast</th>\n",
       "      <th>region_southwest</th>\n",
       "    </tr>\n",
       "  </thead>\n",
       "  <tbody>\n",
       "    <tr>\n",
       "      <th>0</th>\n",
       "      <td>19</td>\n",
       "      <td>27.900</td>\n",
       "      <td>0</td>\n",
       "      <td>0</td>\n",
       "      <td>0</td>\n",
       "      <td>0</td>\n",
       "      <td>0</td>\n",
       "      <td>1</td>\n",
       "    </tr>\n",
       "    <tr>\n",
       "      <th>1</th>\n",
       "      <td>18</td>\n",
       "      <td>33.770</td>\n",
       "      <td>1</td>\n",
       "      <td>1</td>\n",
       "      <td>0</td>\n",
       "      <td>0</td>\n",
       "      <td>1</td>\n",
       "      <td>0</td>\n",
       "    </tr>\n",
       "    <tr>\n",
       "      <th>2</th>\n",
       "      <td>28</td>\n",
       "      <td>33.000</td>\n",
       "      <td>3</td>\n",
       "      <td>1</td>\n",
       "      <td>0</td>\n",
       "      <td>0</td>\n",
       "      <td>1</td>\n",
       "      <td>0</td>\n",
       "    </tr>\n",
       "    <tr>\n",
       "      <th>3</th>\n",
       "      <td>33</td>\n",
       "      <td>22.705</td>\n",
       "      <td>0</td>\n",
       "      <td>0</td>\n",
       "      <td>0</td>\n",
       "      <td>0</td>\n",
       "      <td>1</td>\n",
       "      <td>0</td>\n",
       "    </tr>\n",
       "    <tr>\n",
       "      <th>4</th>\n",
       "      <td>32</td>\n",
       "      <td>28.880</td>\n",
       "      <td>0</td>\n",
       "      <td>0</td>\n",
       "      <td>1</td>\n",
       "      <td>0</td>\n",
       "      <td>0</td>\n",
       "      <td>1</td>\n",
       "    </tr>\n",
       "  </tbody>\n",
       "</table>\n",
       "</div>"
      ],
      "text/plain": [
       "   age     bmi  children  sex_male  smoker_yes  region_northwest  \\\n",
       "0   19  27.900         0         0           0                 0   \n",
       "1   18  33.770         1         1           0                 0   \n",
       "2   28  33.000         3         1           0                 0   \n",
       "3   33  22.705         0         0           0                 0   \n",
       "4   32  28.880         0         0           1                 0   \n",
       "\n",
       "   region_southeast  region_southwest  \n",
       "0                 0                 1  \n",
       "1                 1                 0  \n",
       "2                 1                 0  \n",
       "3                 1                 0  \n",
       "4                 0                 1  "
      ]
     },
     "execution_count": 266,
     "metadata": {},
     "output_type": "execute_result"
    }
   ],
   "source": [
    "df = pd.read_excel('Predicting data.xlsx')\n",
    "df.head()"
   ]
  },
  {
   "cell_type": "code",
   "execution_count": 252,
   "id": "ad9ad82e-0dc2-4ac5-82c3-e0cf8135356a",
   "metadata": {},
   "outputs": [],
   "source": [
    "df1 = df.to_numpy()"
   ]
  },
  {
   "cell_type": "code",
   "execution_count": 253,
   "id": "ae04687d-a7ca-4d24-8383-09ccfb2f2d43",
   "metadata": {},
   "outputs": [
    {
     "data": {
      "text/plain": [
       "array([17053.1012384, 16131.825027 , 25170.7071859, 16708.3624287,\n",
       "       48637.9537539, 48637.9537539, 16288.6093827, 49852.489359 ,\n",
       "       49852.489359 , 48858.541161 , 17053.1012384, 17053.1012384,\n",
       "       17053.1012384])"
      ]
     },
     "execution_count": 253,
     "metadata": {},
     "output_type": "execute_result"
    }
   ],
   "source": [
    "predict = model_cv_rf.predict(df1)\n",
    "predict"
   ]
  },
  {
   "cell_type": "code",
   "execution_count": 254,
   "id": "62c9221f-98a2-45ca-bfe8-e551b6d9688e",
   "metadata": {},
   "outputs": [
    {
     "data": {
      "application/javascript": [
       "\n",
       "        if (window._pyforest_update_imports_cell) { window._pyforest_update_imports_cell('from sklearn.model_selection import KFold\\nimport pandas as pd'); }\n",
       "    "
      ],
      "text/plain": [
       "<IPython.core.display.Javascript object>"
      ]
     },
     "metadata": {},
     "output_type": "display_data"
    },
    {
     "data": {
      "text/html": [
       "<div>\n",
       "<style scoped>\n",
       "    .dataframe tbody tr th:only-of-type {\n",
       "        vertical-align: middle;\n",
       "    }\n",
       "\n",
       "    .dataframe tbody tr th {\n",
       "        vertical-align: top;\n",
       "    }\n",
       "\n",
       "    .dataframe thead th {\n",
       "        text-align: right;\n",
       "    }\n",
       "</style>\n",
       "<table border=\"1\" class=\"dataframe\">\n",
       "  <thead>\n",
       "    <tr style=\"text-align: right;\">\n",
       "      <th></th>\n",
       "      <th>0</th>\n",
       "    </tr>\n",
       "  </thead>\n",
       "  <tbody>\n",
       "    <tr>\n",
       "      <th>0</th>\n",
       "      <td>17053.101238</td>\n",
       "    </tr>\n",
       "    <tr>\n",
       "      <th>1</th>\n",
       "      <td>16131.825027</td>\n",
       "    </tr>\n",
       "    <tr>\n",
       "      <th>2</th>\n",
       "      <td>25170.707186</td>\n",
       "    </tr>\n",
       "    <tr>\n",
       "      <th>3</th>\n",
       "      <td>16708.362429</td>\n",
       "    </tr>\n",
       "    <tr>\n",
       "      <th>4</th>\n",
       "      <td>48637.953754</td>\n",
       "    </tr>\n",
       "    <tr>\n",
       "      <th>5</th>\n",
       "      <td>48637.953754</td>\n",
       "    </tr>\n",
       "    <tr>\n",
       "      <th>6</th>\n",
       "      <td>16288.609383</td>\n",
       "    </tr>\n",
       "    <tr>\n",
       "      <th>7</th>\n",
       "      <td>49852.489359</td>\n",
       "    </tr>\n",
       "    <tr>\n",
       "      <th>8</th>\n",
       "      <td>49852.489359</td>\n",
       "    </tr>\n",
       "    <tr>\n",
       "      <th>9</th>\n",
       "      <td>48858.541161</td>\n",
       "    </tr>\n",
       "    <tr>\n",
       "      <th>10</th>\n",
       "      <td>17053.101238</td>\n",
       "    </tr>\n",
       "    <tr>\n",
       "      <th>11</th>\n",
       "      <td>17053.101238</td>\n",
       "    </tr>\n",
       "    <tr>\n",
       "      <th>12</th>\n",
       "      <td>17053.101238</td>\n",
       "    </tr>\n",
       "  </tbody>\n",
       "</table>\n",
       "</div>"
      ],
      "text/plain": [
       "               0\n",
       "0   17053.101238\n",
       "1   16131.825027\n",
       "2   25170.707186\n",
       "3   16708.362429\n",
       "4   48637.953754\n",
       "5   48637.953754\n",
       "6   16288.609383\n",
       "7   49852.489359\n",
       "8   49852.489359\n",
       "9   48858.541161\n",
       "10  17053.101238\n",
       "11  17053.101238\n",
       "12  17053.101238"
      ]
     },
     "execution_count": 254,
     "metadata": {},
     "output_type": "execute_result"
    }
   ],
   "source": [
    "charges = pd.DataFrame(predict)\n",
    "charges"
   ]
  },
  {
   "cell_type": "code",
   "execution_count": 255,
   "id": "b2e68e2a-c7f7-4982-9ca0-efa01b70e90d",
   "metadata": {},
   "outputs": [],
   "source": [
    "datasets = [df, charges]"
   ]
  },
  {
   "cell_type": "code",
   "execution_count": 256,
   "id": "d80cd174-2371-44b5-98bb-99b0946aafe8",
   "metadata": {},
   "outputs": [
    {
     "data": {
      "application/javascript": [
       "\n",
       "        if (window._pyforest_update_imports_cell) { window._pyforest_update_imports_cell('from sklearn.model_selection import KFold\\nimport pandas as pd'); }\n",
       "    "
      ],
      "text/plain": [
       "<IPython.core.display.Javascript object>"
      ]
     },
     "metadata": {},
     "output_type": "display_data"
    }
   ],
   "source": [
    "new_data = pd.concat([df, charges], axis =1)"
   ]
  },
  {
   "cell_type": "code",
   "execution_count": 265,
   "id": "7121a016-0d46-4464-ab26-28fab62a7737",
   "metadata": {},
   "outputs": [
    {
     "data": {
      "text/html": [
       "<div>\n",
       "<style scoped>\n",
       "    .dataframe tbody tr th:only-of-type {\n",
       "        vertical-align: middle;\n",
       "    }\n",
       "\n",
       "    .dataframe tbody tr th {\n",
       "        vertical-align: top;\n",
       "    }\n",
       "\n",
       "    .dataframe thead th {\n",
       "        text-align: right;\n",
       "    }\n",
       "</style>\n",
       "<table border=\"1\" class=\"dataframe\">\n",
       "  <thead>\n",
       "    <tr style=\"text-align: right;\">\n",
       "      <th></th>\n",
       "      <th>Age</th>\n",
       "      <th>BMI</th>\n",
       "      <th>Children</th>\n",
       "      <th>sex is male</th>\n",
       "      <th>Smoking</th>\n",
       "      <th>Northwest_region</th>\n",
       "      <th>SouthEast_region</th>\n",
       "      <th>Southwest_region</th>\n",
       "      <th>charges</th>\n",
       "    </tr>\n",
       "  </thead>\n",
       "  <tbody>\n",
       "    <tr>\n",
       "      <th>0</th>\n",
       "      <td>19</td>\n",
       "      <td>27.900</td>\n",
       "      <td>0</td>\n",
       "      <td>0</td>\n",
       "      <td>0</td>\n",
       "      <td>0</td>\n",
       "      <td>0</td>\n",
       "      <td>1</td>\n",
       "      <td>17053.101238</td>\n",
       "    </tr>\n",
       "    <tr>\n",
       "      <th>1</th>\n",
       "      <td>18</td>\n",
       "      <td>33.770</td>\n",
       "      <td>1</td>\n",
       "      <td>1</td>\n",
       "      <td>0</td>\n",
       "      <td>0</td>\n",
       "      <td>1</td>\n",
       "      <td>0</td>\n",
       "      <td>16131.825027</td>\n",
       "    </tr>\n",
       "    <tr>\n",
       "      <th>2</th>\n",
       "      <td>28</td>\n",
       "      <td>33.000</td>\n",
       "      <td>3</td>\n",
       "      <td>1</td>\n",
       "      <td>0</td>\n",
       "      <td>0</td>\n",
       "      <td>1</td>\n",
       "      <td>0</td>\n",
       "      <td>25170.707186</td>\n",
       "    </tr>\n",
       "    <tr>\n",
       "      <th>3</th>\n",
       "      <td>33</td>\n",
       "      <td>22.705</td>\n",
       "      <td>0</td>\n",
       "      <td>0</td>\n",
       "      <td>0</td>\n",
       "      <td>0</td>\n",
       "      <td>1</td>\n",
       "      <td>0</td>\n",
       "      <td>16708.362429</td>\n",
       "    </tr>\n",
       "    <tr>\n",
       "      <th>4</th>\n",
       "      <td>32</td>\n",
       "      <td>28.880</td>\n",
       "      <td>0</td>\n",
       "      <td>0</td>\n",
       "      <td>1</td>\n",
       "      <td>0</td>\n",
       "      <td>0</td>\n",
       "      <td>1</td>\n",
       "      <td>48637.953754</td>\n",
       "    </tr>\n",
       "  </tbody>\n",
       "</table>\n",
       "</div>"
      ],
      "text/plain": [
       "   Age     BMI  Children  sex is male  Smoking  Northwest_region  \\\n",
       "0   19  27.900         0            0        0                 0   \n",
       "1   18  33.770         1            1        0                 0   \n",
       "2   28  33.000         3            1        0                 0   \n",
       "3   33  22.705         0            0        0                 0   \n",
       "4   32  28.880         0            0        1                 0   \n",
       "\n",
       "   SouthEast_region  Southwest_region       charges  \n",
       "0                 0                 1  17053.101238  \n",
       "1                 1                 0  16131.825027  \n",
       "2                 1                 0  25170.707186  \n",
       "3                 1                 0  16708.362429  \n",
       "4                 0                 1  48637.953754  "
      ]
     },
     "execution_count": 265,
     "metadata": {},
     "output_type": "execute_result"
    }
   ],
   "source": [
    "new_data.head()"
   ]
  },
  {
   "cell_type": "code",
   "execution_count": 258,
   "id": "4d1f4863-0f0d-4179-840a-10fdc76afdd4",
   "metadata": {},
   "outputs": [
    {
     "data": {
      "text/plain": [
       "Index([             'age',              'bmi',         'children',\n",
       "               'sex_male',       'smoker_yes', 'region_northwest',\n",
       "       'region_southeast', 'region_southwest',                  0],\n",
       "      dtype='object')"
      ]
     },
     "execution_count": 258,
     "metadata": {},
     "output_type": "execute_result"
    }
   ],
   "source": [
    "new_data.columns"
   ]
  },
  {
   "cell_type": "code",
   "execution_count": 261,
   "id": "2d90931b-4418-418a-901a-6cbbf48300d6",
   "metadata": {},
   "outputs": [],
   "source": [
    "new_data.rename(columns = {'age':'Age','bmi':'BMI','children':'Children','sex_male':'sex is male','smoker_yes':'Smoking', \n",
    "                           'region_northwest':'Northwest_region','region_southeast':'SouthEast_region',\n",
    "                           'region_southwest':'Southwest_region',0:'Charges'}, inplace = True)"
   ]
  },
  {
   "cell_type": "code",
   "execution_count": 262,
   "id": "5c7d01eb-bfcf-4104-b1e6-af997cdc4564",
   "metadata": {},
   "outputs": [
    {
     "data": {
      "text/html": [
       "<div>\n",
       "<style scoped>\n",
       "    .dataframe tbody tr th:only-of-type {\n",
       "        vertical-align: middle;\n",
       "    }\n",
       "\n",
       "    .dataframe tbody tr th {\n",
       "        vertical-align: top;\n",
       "    }\n",
       "\n",
       "    .dataframe thead th {\n",
       "        text-align: right;\n",
       "    }\n",
       "</style>\n",
       "<table border=\"1\" class=\"dataframe\">\n",
       "  <thead>\n",
       "    <tr style=\"text-align: right;\">\n",
       "      <th></th>\n",
       "      <th>Age</th>\n",
       "      <th>BMI</th>\n",
       "      <th>Children</th>\n",
       "      <th>sex is male</th>\n",
       "      <th>Smoking</th>\n",
       "      <th>Northwest_region</th>\n",
       "      <th>SouthEast_region</th>\n",
       "      <th>Southwest_region</th>\n",
       "      <th>charges</th>\n",
       "    </tr>\n",
       "  </thead>\n",
       "  <tbody>\n",
       "    <tr>\n",
       "      <th>0</th>\n",
       "      <td>19</td>\n",
       "      <td>27.900</td>\n",
       "      <td>0</td>\n",
       "      <td>0</td>\n",
       "      <td>0</td>\n",
       "      <td>0</td>\n",
       "      <td>0</td>\n",
       "      <td>1</td>\n",
       "      <td>17053.101238</td>\n",
       "    </tr>\n",
       "    <tr>\n",
       "      <th>1</th>\n",
       "      <td>18</td>\n",
       "      <td>33.770</td>\n",
       "      <td>1</td>\n",
       "      <td>1</td>\n",
       "      <td>0</td>\n",
       "      <td>0</td>\n",
       "      <td>1</td>\n",
       "      <td>0</td>\n",
       "      <td>16131.825027</td>\n",
       "    </tr>\n",
       "    <tr>\n",
       "      <th>2</th>\n",
       "      <td>28</td>\n",
       "      <td>33.000</td>\n",
       "      <td>3</td>\n",
       "      <td>1</td>\n",
       "      <td>0</td>\n",
       "      <td>0</td>\n",
       "      <td>1</td>\n",
       "      <td>0</td>\n",
       "      <td>25170.707186</td>\n",
       "    </tr>\n",
       "    <tr>\n",
       "      <th>3</th>\n",
       "      <td>33</td>\n",
       "      <td>22.705</td>\n",
       "      <td>0</td>\n",
       "      <td>0</td>\n",
       "      <td>0</td>\n",
       "      <td>0</td>\n",
       "      <td>1</td>\n",
       "      <td>0</td>\n",
       "      <td>16708.362429</td>\n",
       "    </tr>\n",
       "    <tr>\n",
       "      <th>4</th>\n",
       "      <td>32</td>\n",
       "      <td>28.880</td>\n",
       "      <td>0</td>\n",
       "      <td>0</td>\n",
       "      <td>1</td>\n",
       "      <td>0</td>\n",
       "      <td>0</td>\n",
       "      <td>1</td>\n",
       "      <td>48637.953754</td>\n",
       "    </tr>\n",
       "  </tbody>\n",
       "</table>\n",
       "</div>"
      ],
      "text/plain": [
       "   Age     BMI  Children  sex is male  Smoking  Northwest_region  \\\n",
       "0   19  27.900         0            0        0                 0   \n",
       "1   18  33.770         1            1        0                 0   \n",
       "2   28  33.000         3            1        0                 0   \n",
       "3   33  22.705         0            0        0                 0   \n",
       "4   32  28.880         0            0        1                 0   \n",
       "\n",
       "   SouthEast_region  Southwest_region       charges  \n",
       "0                 0                 1  17053.101238  \n",
       "1                 1                 0  16131.825027  \n",
       "2                 1                 0  25170.707186  \n",
       "3                 1                 0  16708.362429  \n",
       "4                 0                 1  48637.953754  "
      ]
     },
     "execution_count": 262,
     "metadata": {},
     "output_type": "execute_result"
    }
   ],
   "source": [
    "new_data.head()"
   ]
  },
  {
   "cell_type": "markdown",
   "id": "272615d3-6896-49c3-8f2e-9c9bd6ac3911",
   "metadata": {},
   "source": [
    "#### HERE WE HAVE SELECTED THE RANDOM FOREST REGRESSOR MODEL, AND FUTHER PREDICTED THE INSURANCE CHARGES TOO FOR NEW DATASET GIVEN"
   ]
  },
  {
   "cell_type": "code",
   "execution_count": null,
   "id": "22b9ef5e-1128-4051-9971-1f1bd9fcf7e1",
   "metadata": {},
   "outputs": [],
   "source": []
  }
 ],
 "metadata": {
  "kernelspec": {
   "display_name": "Python 3 (ipykernel)",
   "language": "python",
   "name": "python3"
  },
  "language_info": {
   "codemirror_mode": {
    "name": "ipython",
    "version": 3
   },
   "file_extension": ".py",
   "mimetype": "text/x-python",
   "name": "python",
   "nbconvert_exporter": "python",
   "pygments_lexer": "ipython3",
   "version": "3.9.13"
  }
 },
 "nbformat": 4,
 "nbformat_minor": 5
}
